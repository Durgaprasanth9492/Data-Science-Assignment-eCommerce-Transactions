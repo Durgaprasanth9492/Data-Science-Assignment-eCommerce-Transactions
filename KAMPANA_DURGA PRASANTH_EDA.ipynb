import pandas as pd
import matplotlib.pyplot as plt
import seaborn as sns

# Load the datasets
customers = pd.read_csv("Customers.csv")
products = pd.read_csv("Products.csv")
transactions = pd.read_csv("Transactions.csv")

# Preview the data
print("Customers Data:")
print(customers.head())
print(customers.info())

print("\nProducts Data:")
print(products.head())
print(products.info())

print("\nTransactions Data:")
print(transactions.head())
print(transactions.info())

# Check for missing values
def check_missing(data, name):
    missing = data.isnull().sum()
    print(f"\nMissing Values in {name}:\n{missing[missing > 0]}")

check_missing(customers, "Customers")
check_missing(products, "Products")
check_missing(transactions, "Transactions")

# Data Cleaning
# Example: Convert dates to datetime
customers['SignupDate'] = pd.to_datetime(customers['SignupDate'])
transactions['TransactionDate'] = pd.to_datetime(transactions['TransactionDate'])

# Merge datasets for combined analysis
data = transactions.merge(customers, on='CustomerID', how='left')
data = data.merge(products, on='ProductID', how='left')

# Exploratory Data Analysis
## 1. Customer Distribution by Region
region_dist = customers['Region'].value_counts()
plt.figure(figsize=(8, 5))
sns.barplot(x=region_dist.index, y=region_dist.values, palette='viridis')
plt.title("Customer Distribution by Region")
plt.xlabel("Region")
plt.ylabel("Number of Customers")
plt.xticks(rotation=45)
plt.show()

## 2. Top Product Categories
category_sales = data.groupby('Category')['Quantity'].sum().sort_values(ascending=False)
plt.figure(figsize=(8, 5))
sns.barplot(x=category_sales.index, y=category_sales.values, palette='coolwarm')
plt.title("Top Product Categories by Quantity Sold")
plt.xlabel("Category")
plt.ylabel("Total Quantity Sold")
plt.xticks(rotation=45)
plt.show()

## 3. Revenue Over Time
revenue_time = data.groupby(data['TransactionDate'].dt.to_period("M")).sum()['TotalValue']
plt.figure(figsize=(10, 6))
revenue_time.plot(kind='line', marker='o', color='purple')
plt.title("Monthly Revenue Trend")
plt.xlabel("Month")
plt.ylabel("Total Revenue (USD)")
plt.grid()
plt.show()

## 4. High-Value Customers
high_value_customers = data.groupby('CustomerID')['TotalValue'].sum().sort_values(ascending=False).head(10)
print("Top 10 High-Value Customers:\n", high_value_customers)

# Output for verification
print("\nEDA Summary Complete.")