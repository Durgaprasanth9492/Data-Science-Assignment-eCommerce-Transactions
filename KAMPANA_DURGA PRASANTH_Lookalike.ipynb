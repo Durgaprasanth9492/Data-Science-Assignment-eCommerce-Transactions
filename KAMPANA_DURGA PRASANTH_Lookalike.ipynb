import pandas as pd
from sklearn.preprocessing import StandardScaler, LabelEncoder
from sklearn.metrics.pairwise import cosine_similarity
import numpy as np

# Load the datasets
customers = pd.read_csv("Customers.csv")
transactions = pd.read_csv("Transactions.csv")

# Merge datasets for lookalike analysis
data = transactions.merge(customers, on='CustomerID', how='left')

# Feature Engineering
# Calculate customer tenure
data['SignupDate'] = pd.to_datetime(data['SignupDate'])
data['Tenure'] = (pd.to_datetime('today') - data['SignupDate']).dt.days

# Aggregate data by customer
customer_data = data.groupby('CustomerID').agg({
    'TotalValue': 'sum',  # Total transaction value
    'Quantity': 'sum',    # Total quantity purchased
    'Tenure': 'max',      # Customer tenure
    'Region': 'first'     # Customer region
}).reset_index()

# Encode categorical variable (Region)
le = LabelEncoder()
customer_data['RegionEncoded'] = le.fit_transform(customer_data['Region'])

# Select features for similarity
features = customer_data[['TotalValue', 'Quantity', 'Tenure', 'RegionEncoded']]
scaler = StandardScaler()
scaled_features = scaler.fit_transform(features)

# Compute similarity matrix
similarity_matrix = cosine_similarity(scaled_features)

# Generate Lookalike Recommendations
lookalike_results = {}
for idx, customer_id in enumerate(customer_data['CustomerID']):
    similar_indices = np.argsort(similarity_matrix[idx])[::-1][1:4]  # Top 3 excluding self
    similar_customers = customer_data.iloc[similar_indices]['CustomerID'].values
    similarity_scores = similarity_matrix[idx][similar_indices]
    lookalike_results[customer_id] = list(zip(similar_customers, similarity_scores))

# Save Lookalike Results to CSV
lookalike_output = []
for customer_id, recommendations in lookalike_results.items():
    for rec_customer, score in recommendations:
        lookalike_output.append({
            'CustomerID': customer_id,
            'SimilarCustomerID': rec_customer,
            'SimilarityScore': score
        })

lookalike_df = pd.DataFrame(lookalike_output)
lookalike_df.to_csv("Lookalike.csv", index=False)

print("Lookalike model results saved to Lookalike.csv")